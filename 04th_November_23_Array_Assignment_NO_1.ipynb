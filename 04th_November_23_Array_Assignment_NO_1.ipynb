{
  "nbformat": 4,
  "nbformat_minor": 0,
  "metadata": {
    "colab": {
      "provenance": [],
      "authorship_tag": "ABX9TyNToc5rin3ERxEFrOiDlPAT",
      "include_colab_link": true
    },
    "kernelspec": {
      "name": "python3",
      "display_name": "Python 3"
    },
    "language_info": {
      "name": "python"
    }
  },
  "cells": [
    {
      "cell_type": "markdown",
      "metadata": {
        "id": "view-in-github",
        "colab_type": "text"
      },
      "source": [
        "<a href=\"https://colab.research.google.com/github/QaziSaim/DSA-ASSIGNMENT/blob/main/04th_November_23_Array_Assignment_NO_1.ipynb\" target=\"_parent\"><img src=\"https://colab.research.google.com/assets/colab-badge.svg\" alt=\"Open In Colab\"/></a>"
      ]
    },
    {
      "cell_type": "markdown",
      "source": [
        "## **Assignment No 1**"
      ],
      "metadata": {
        "id": "1mzy6fGte0Y2"
      }
    },
    {
      "cell_type": "markdown",
      "source": [
        "1. Given an array, check if it contains any duplicates or not.\n",
        "arr = [1, 2, 4, 2, 5, 9]\n",
        "Output = True\n",
        "\n",
        "2. Given an array and an integer k, rotate the array to the right by k steps.\n",
        "arr = [1, 2, 3, 4, 5, 6, 7] k = 3\n",
        "Output = [5, 6, 7, 1, 2, 3, 4]\n",
        "\n",
        "3. Reverse the given array in-place, means without using any extra data structure.\n",
        "arr = [2, 4, 5, 7, 9, 12]\n",
        "Output = [12, 9, 7, 5, 4, 2]\n",
        "\n",
        "4. Given an array of integers, find the maximum element in an array\n",
        "arr = [10, 5, 20, 8, 15]\n",
        "Output = 20\n",
        "\n",
        "5. Given a sorted array, remove the duplicate element without using any extra data structure.\n",
        "arr = [1, 1, 2, 2, 2, 3, 3, 4, 4, 4, 5, 5]\n",
        "Output = [1, 2, 3, 4, 5]"
      ],
      "metadata": {
        "id": "xvDZBzaqe7ZO"
      }
    },
    {
      "cell_type": "code",
      "execution_count": null,
      "metadata": {
        "colab": {
          "base_uri": "https://localhost:8080/"
        },
        "id": "2LRs8cdGexR0",
        "outputId": "c05b500f-7041-46fc-cc91-33199a68d472"
      },
      "outputs": [
        {
          "output_type": "stream",
          "name": "stdout",
          "text": [
            "False\n"
          ]
        }
      ],
      "source": [
        "# Question No 1: Check duplicate arrya\n",
        "arr=[1,2,4,2,5,9]\n",
        "lys=set(arr)\n",
        "if len(arr) == len(lys):\n",
        "  print(False)\n",
        "else:\n",
        "  print(True)\n",
        "# The time complexity of this problem is O(1)\n",
        "# The Space Complexity of this code is O(n)"
      ]
    },
    {
      "cell_type": "code",
      "source": [
        "def rotate_array(arr, k):\n",
        "    if not arr:\n",
        "        return arr\n",
        "\n",
        "    n = len(arr)\n",
        "    k = k % n  # Ensure k is within the range of the array length\n",
        "    if k == 0:\n",
        "        return arr  # No need to rotate if k is 0\n",
        "\n",
        "    # Use list slicing to create the rotated array\n",
        "    rotated_arr = arr[-k:] + arr[:-k]\n",
        "\n",
        "    return rotated_arr\n",
        "\n",
        "arr = [1, 2, 3, 4, 5, 6, 7]\n",
        "k = 3\n",
        "result = rotate_array(arr, k)\n",
        "print(result)\n",
        "\n",
        "# Time Complexity : O(n)\n",
        "# Space Complexity : O(n)"
      ],
      "metadata": {
        "id": "KcbIeV_Zfb3Q",
        "colab": {
          "base_uri": "https://localhost:8080/"
        },
        "outputId": "258104d0-34cf-4e7f-c808-b06dfb9fa7aa"
      },
      "execution_count": 3,
      "outputs": [
        {
          "output_type": "stream",
          "name": "stdout",
          "text": [
            "3 4 5 6 7 1 2 \n"
          ]
        }
      ]
    },
    {
      "cell_type": "code",
      "source": [
        "# Question No 3: Reverse Array\n",
        "arr = [2, 4, 5, 7, 9, 12]\n",
        "print(f'Array before Reverse arr = {arr}')\n",
        "print(f'Array After  Reverse arr = {arr[::-1]}')\n",
        "# Time Complixity O(1)\n",
        "# Space Complixity O(1)"
      ],
      "metadata": {
        "colab": {
          "base_uri": "https://localhost:8080/"
        },
        "id": "Axw3t3Vm5Tgp",
        "outputId": "6e32765a-b116-4c46-8800-0d3b7098d56f"
      },
      "execution_count": null,
      "outputs": [
        {
          "output_type": "stream",
          "name": "stdout",
          "text": [
            "Array before Reverse arr = [2, 4, 5, 7, 9, 12]\n",
            "Array After  Reverse arr = [12, 9, 7, 5, 4, 2]\n"
          ]
        }
      ]
    },
    {
      "cell_type": "code",
      "source": [
        "# Question No 4: Maximum Element\n",
        "arr = [10, 5, 20, 8, 15]\n",
        "print(f'Maximum Element of Arrya arr = {max(arr)}')\n",
        "# Time Complixity O(1)\n",
        "# Space Complixity O(1)"
      ],
      "metadata": {
        "colab": {
          "base_uri": "https://localhost:8080/"
        },
        "id": "hT8LhUc35pqI",
        "outputId": "e406f5ab-9380-42dd-da6c-b82d620e3912"
      },
      "execution_count": null,
      "outputs": [
        {
          "output_type": "stream",
          "name": "stdout",
          "text": [
            "Maximum Element of Arrya arr = 20\n"
          ]
        }
      ]
    },
    {
      "cell_type": "code",
      "source": [
        "# Question No 5 : Remove Duplicate Element\n",
        "dup=[]\n",
        "def duplicate(arr):\n",
        "  for i in arr:\n",
        "    if i not in dup:\n",
        "      dup.append(i)\n",
        "arr = [1, 1, 2, 2, 2, 3, 3, 4, 4, 4, 5, 5]\n",
        "result=duplicate(arr)\n",
        "print(dup)"
      ],
      "metadata": {
        "colab": {
          "base_uri": "https://localhost:8080/"
        },
        "id": "PhDkJgkg6P7i",
        "outputId": "d0d72bb4-ddea-4a05-c6cc-d396ffce9814"
      },
      "execution_count": null,
      "outputs": [
        {
          "output_type": "stream",
          "name": "stdout",
          "text": [
            "[1, 2, 3, 4, 5]\n"
          ]
        }
      ]
    }
  ]
}